{
 "cells": [
  {
   "cell_type": "code",
   "execution_count": null,
   "metadata": {
    "id": "92gErNJwJzp5"
   },
   "outputs": [],
   "source": [
    "import numpy as np\n",
    "import pandas as pd \n",
    "import matplotlib.pyplot as plt\n",
    "from sklearn.linear_model import Ridge\n",
    "from sklearn.linear_model import Lasso\n",
    "from sklearn.metrics import r2_score"
   ]
  },
  {
   "cell_type": "markdown",
   "metadata": {
    "id": "3G7ax6a1LBGJ"
   },
   "source": [
    "#Loading and Preprocessing Data"
   ]
  },
  {
   "cell_type": "code",
   "execution_count": null,
   "metadata": {
    "colab": {
     "base_uri": "https://localhost:8080/"
    },
    "id": "FhNXABg_KnYF",
    "outputId": "f0d708f7-7f04-4b66-9e5a-e2a15fc879ba"
   },
   "outputs": [
    {
     "name": "stdout",
     "output_type": "stream",
     "text": [
      "<class 'pandas.core.frame.DataFrame'>\n",
      "RangeIndex: 62553 entries, 0 to 62552\n",
      "Data columns (total 31 columns):\n",
      " #   Column          Non-Null Count  Dtype  \n",
      "---  ------          --------------  -----  \n",
      " 0   name            18619 non-null  object \n",
      " 1   a               62553 non-null  float64\n",
      " 2   e               62553 non-null  float64\n",
      " 3   i               62553 non-null  float64\n",
      " 4   om              62553 non-null  float64\n",
      " 5   w               62553 non-null  float64\n",
      " 6   q               62553 non-null  float64\n",
      " 7   ad              62553 non-null  float64\n",
      " 8   per_y           62553 non-null  float64\n",
      " 9   data_arc        62553 non-null  int64  \n",
      " 10  condition_code  62553 non-null  int64  \n",
      " 11  n_obs_used      62553 non-null  int64  \n",
      " 12  H               62553 non-null  float64\n",
      " 13  neo             62553 non-null  object \n",
      " 14  pha             62553 non-null  object \n",
      " 15  diameter        41087 non-null  object \n",
      " 16  extent          15 non-null     object \n",
      " 17  albedo          41067 non-null  float64\n",
      " 18  rot_per         10905 non-null  float64\n",
      " 19  GM              12 non-null     float64\n",
      " 20  BV              1018 non-null   float64\n",
      " 21  UB              976 non-null    float64\n",
      " 22  IR              0 non-null      float64\n",
      " 23  spec_B          1474 non-null   object \n",
      " 24  spec_T          976 non-null    object \n",
      " 25  G               115 non-null    float64\n",
      " 26  moid            62553 non-null  float64\n",
      " 27  class           62553 non-null  object \n",
      " 28  n               62553 non-null  float64\n",
      " 29  per             62553 non-null  float64\n",
      " 30  ma              62552 non-null  float64\n",
      "dtypes: float64(20), int64(3), object(8)\n",
      "memory usage: 14.8+ MB\n"
     ]
    },
    {
     "name": "stderr",
     "output_type": "stream",
     "text": [
      "/usr/local/lib/python3.7/dist-packages/IPython/core/interactiveshell.py:2882: DtypeWarning: Columns (15,16,24) have mixed types.Specify dtype option on import or set low_memory=False.\n",
      "  exec(code_obj, self.user_global_ns, self.user_ns)\n"
     ]
    }
   ],
   "source": [
    "dataset=pd.read_csv(\"Asteroid_Updated.csv\")\n",
    "dataset.info() "
   ]
  },
  {
   "cell_type": "code",
   "execution_count": null,
   "metadata": {
    "colab": {
     "base_uri": "https://localhost:8080/"
    },
    "id": "dm_ZX0KOKtzU",
    "outputId": "b19b70e6-2f1b-47b3-fbcb-2592a86810ed"
   },
   "outputs": [
    {
     "name": "stdout",
     "output_type": "stream",
     "text": [
      "name              43934\n",
      "a                     0\n",
      "e                     0\n",
      "i                     0\n",
      "om                    0\n",
      "w                     0\n",
      "q                     0\n",
      "ad                    0\n",
      "per_y                 0\n",
      "data_arc              0\n",
      "condition_code        0\n",
      "n_obs_used            0\n",
      "H                     0\n",
      "neo                   0\n",
      "pha                   0\n",
      "diameter          21466\n",
      "extent            62538\n",
      "albedo            21486\n",
      "rot_per           51648\n",
      "GM                62541\n",
      "BV                61535\n",
      "UB                61577\n",
      "IR                62553\n",
      "spec_B            61079\n",
      "spec_T            61577\n",
      "G                 62438\n",
      "moid                  0\n",
      "class                 0\n",
      "n                     0\n",
      "per                   0\n",
      "ma                    1\n",
      "dtype: int64\n"
     ]
    }
   ],
   "source": [
    "missing_values_in_dataset=dataset.isnull().sum()\n",
    "print(missing_values_in_dataset)"
   ]
  },
  {
   "cell_type": "code",
   "execution_count": null,
   "metadata": {
    "id": "K9DWxxlWNJgC"
   },
   "outputs": [],
   "source": [
    "dataset=dataset.drop(['spec_B','spec_T','extent','name','IR'],axis=1)\n"
   ]
  },
  {
   "cell_type": "code",
   "execution_count": null,
   "metadata": {
    "id": "qmCFAC_DS48J"
   },
   "outputs": [],
   "source": [
    "dataset['diameter']=dataset['diameter'].astype(float)\n",
    "\n",
    "\n"
   ]
  },
  {
   "cell_type": "code",
   "execution_count": null,
   "metadata": {
    "id": "NlHzgExFW9-X"
   },
   "outputs": [],
   "source": []
  },
  {
   "cell_type": "code",
   "execution_count": null,
   "metadata": {
    "id": "EsXgDXYNZf3R"
   },
   "outputs": [],
   "source": [
    "  dataset['neo'].fillna(dataset['neo'].mode()[0],inplace=True)\n",
    "  dataset['class'].fillna(dataset['class'].mode()[0],inplace=True)\n",
    "  dataset['pha'].fillna(dataset['pha'].mode()[0],inplace=True)"
   ]
  },
  {
   "cell_type": "code",
   "execution_count": null,
   "metadata": {
    "colab": {
     "base_uri": "https://localhost:8080/"
    },
    "id": "6pT2s3HuMlpZ",
    "outputId": "3017d66d-447a-49b8-f15c-b7b67d58d16c"
   },
   "outputs": [
    {
     "name": "stderr",
     "output_type": "stream",
     "text": [
      "/usr/local/lib/python3.7/dist-packages/ipykernel_launcher.py:1: FutureWarning: Dropping of nuisance columns in DataFrame reductions (with 'numeric_only=None') is deprecated; in a future version this will raise TypeError.  Select only valid columns before calling the reduction.\n",
      "  \"\"\"Entry point for launching an IPython kernel.\n"
     ]
    }
   ],
   "source": [
    "dataset.fillna(dataset.mean(),inplace=True)"
   ]
  },
  {
   "cell_type": "code",
   "execution_count": null,
   "metadata": {
    "id": "J8iBi8TjW99j"
   },
   "outputs": [],
   "source": [
    "from sklearn import preprocessing\n",
    " \n",
    "# label_encoder object knows how to understand word labels.\n",
    "label_encoder = preprocessing.LabelEncoder()\n",
    "dataset['neo']= label_encoder.fit_transform(dataset['neo'])\n",
    "dataset['class']= label_encoder.fit_transform(dataset['class']) \n",
    "dataset['pha']= label_encoder.fit_transform(dataset['pha'])"
   ]
  },
  {
   "cell_type": "code",
   "execution_count": null,
   "metadata": {
    "colab": {
     "base_uri": "https://localhost:8080/"
    },
    "id": "fHCg90m-MxUB",
    "outputId": "4676729e-c359-4f62-da59-ea8ddd267e4c"
   },
   "outputs": [
    {
     "name": "stdout",
     "output_type": "stream",
     "text": [
      "a                 0\n",
      "e                 0\n",
      "i                 0\n",
      "om                0\n",
      "w                 0\n",
      "q                 0\n",
      "ad                0\n",
      "per_y             0\n",
      "data_arc          0\n",
      "condition_code    0\n",
      "n_obs_used        0\n",
      "H                 0\n",
      "neo               0\n",
      "pha               0\n",
      "diameter          0\n",
      "albedo            0\n",
      "rot_per           0\n",
      "GM                0\n",
      "BV                0\n",
      "UB                0\n",
      "G                 0\n",
      "moid              0\n",
      "class             0\n",
      "n                 0\n",
      "per               0\n",
      "ma                0\n",
      "dtype: int64\n"
     ]
    }
   ],
   "source": [
    "missing_values_in_dataset=dataset.isnull().sum()\n",
    "print(missing_values_in_dataset)"
   ]
  },
  {
   "cell_type": "code",
   "execution_count": null,
   "metadata": {
    "colab": {
     "base_uri": "https://localhost:8080/",
     "height": 476
    },
    "id": "dCU8jHDVNBmF",
    "outputId": "9f933da9-1747-4a1b-9992-0693b1d8fbc7"
   },
   "outputs": [
    {
     "data": {
      "text/html": [
       "\n",
       "  <div id=\"df-948a0024-58af-4af3-9cbf-8290c413e3b5\">\n",
       "    <div class=\"colab-df-container\">\n",
       "      <div>\n",
       "<style scoped>\n",
       "    .dataframe tbody tr th:only-of-type {\n",
       "        vertical-align: middle;\n",
       "    }\n",
       "\n",
       "    .dataframe tbody tr th {\n",
       "        vertical-align: top;\n",
       "    }\n",
       "\n",
       "    .dataframe thead th {\n",
       "        text-align: right;\n",
       "    }\n",
       "</style>\n",
       "<table border=\"1\" class=\"dataframe\">\n",
       "  <thead>\n",
       "    <tr style=\"text-align: right;\">\n",
       "      <th></th>\n",
       "      <th>a</th>\n",
       "      <th>e</th>\n",
       "      <th>i</th>\n",
       "      <th>om</th>\n",
       "      <th>w</th>\n",
       "      <th>q</th>\n",
       "      <th>ad</th>\n",
       "      <th>per_y</th>\n",
       "      <th>data_arc</th>\n",
       "      <th>condition_code</th>\n",
       "      <th>n_obs_used</th>\n",
       "      <th>H</th>\n",
       "      <th>neo</th>\n",
       "      <th>pha</th>\n",
       "      <th>diameter</th>\n",
       "      <th>albedo</th>\n",
       "      <th>rot_per</th>\n",
       "      <th>GM</th>\n",
       "      <th>BV</th>\n",
       "      <th>UB</th>\n",
       "      <th>G</th>\n",
       "      <th>moid</th>\n",
       "      <th>class</th>\n",
       "      <th>n</th>\n",
       "      <th>per</th>\n",
       "      <th>ma</th>\n",
       "    </tr>\n",
       "  </thead>\n",
       "  <tbody>\n",
       "    <tr>\n",
       "      <th>0</th>\n",
       "      <td>2.769165</td>\n",
       "      <td>0.076009</td>\n",
       "      <td>10.594067</td>\n",
       "      <td>80.305532</td>\n",
       "      <td>73.597694</td>\n",
       "      <td>2.558684</td>\n",
       "      <td>2.979647</td>\n",
       "      <td>4.608202</td>\n",
       "      <td>8822</td>\n",
       "      <td>0</td>\n",
       "      <td>1002</td>\n",
       "      <td>3.34</td>\n",
       "      <td>0</td>\n",
       "      <td>0</td>\n",
       "      <td>939.400000</td>\n",
       "      <td>0.090000</td>\n",
       "      <td>9.074170</td>\n",
       "      <td>62.628400</td>\n",
       "      <td>0.713000</td>\n",
       "      <td>0.426000</td>\n",
       "      <td>0.120000</td>\n",
       "      <td>1.594780</td>\n",
       "      <td>6</td>\n",
       "      <td>0.213885</td>\n",
       "      <td>1683.145708</td>\n",
       "      <td>77.372096</td>\n",
       "    </tr>\n",
       "    <tr>\n",
       "      <th>1</th>\n",
       "      <td>2.772466</td>\n",
       "      <td>0.230337</td>\n",
       "      <td>34.836234</td>\n",
       "      <td>173.080063</td>\n",
       "      <td>310.048857</td>\n",
       "      <td>2.133865</td>\n",
       "      <td>3.411067</td>\n",
       "      <td>4.616444</td>\n",
       "      <td>72318</td>\n",
       "      <td>0</td>\n",
       "      <td>8490</td>\n",
       "      <td>4.13</td>\n",
       "      <td>0</td>\n",
       "      <td>0</td>\n",
       "      <td>545.000000</td>\n",
       "      <td>0.101000</td>\n",
       "      <td>7.813200</td>\n",
       "      <td>14.300000</td>\n",
       "      <td>0.635000</td>\n",
       "      <td>0.284000</td>\n",
       "      <td>0.110000</td>\n",
       "      <td>1.233240</td>\n",
       "      <td>6</td>\n",
       "      <td>0.213503</td>\n",
       "      <td>1686.155999</td>\n",
       "      <td>59.699133</td>\n",
       "    </tr>\n",
       "    <tr>\n",
       "      <th>2</th>\n",
       "      <td>2.669150</td>\n",
       "      <td>0.256942</td>\n",
       "      <td>12.988919</td>\n",
       "      <td>169.852760</td>\n",
       "      <td>248.138626</td>\n",
       "      <td>1.983332</td>\n",
       "      <td>3.354967</td>\n",
       "      <td>4.360814</td>\n",
       "      <td>72684</td>\n",
       "      <td>0</td>\n",
       "      <td>7104</td>\n",
       "      <td>5.33</td>\n",
       "      <td>0</td>\n",
       "      <td>0</td>\n",
       "      <td>246.596000</td>\n",
       "      <td>0.214000</td>\n",
       "      <td>7.210000</td>\n",
       "      <td>9.125582</td>\n",
       "      <td>0.824000</td>\n",
       "      <td>0.433000</td>\n",
       "      <td>0.320000</td>\n",
       "      <td>1.034540</td>\n",
       "      <td>6</td>\n",
       "      <td>0.226019</td>\n",
       "      <td>1592.787285</td>\n",
       "      <td>34.925016</td>\n",
       "    </tr>\n",
       "    <tr>\n",
       "      <th>3</th>\n",
       "      <td>2.361418</td>\n",
       "      <td>0.088721</td>\n",
       "      <td>7.141771</td>\n",
       "      <td>103.810804</td>\n",
       "      <td>150.728541</td>\n",
       "      <td>2.151909</td>\n",
       "      <td>2.570926</td>\n",
       "      <td>3.628837</td>\n",
       "      <td>24288</td>\n",
       "      <td>0</td>\n",
       "      <td>9325</td>\n",
       "      <td>3.20</td>\n",
       "      <td>0</td>\n",
       "      <td>0</td>\n",
       "      <td>525.400000</td>\n",
       "      <td>0.422800</td>\n",
       "      <td>5.342128</td>\n",
       "      <td>17.800000</td>\n",
       "      <td>0.782000</td>\n",
       "      <td>0.492000</td>\n",
       "      <td>0.320000</td>\n",
       "      <td>1.139480</td>\n",
       "      <td>6</td>\n",
       "      <td>0.271609</td>\n",
       "      <td>1325.432765</td>\n",
       "      <td>95.861936</td>\n",
       "    </tr>\n",
       "    <tr>\n",
       "      <th>4</th>\n",
       "      <td>2.574249</td>\n",
       "      <td>0.191095</td>\n",
       "      <td>5.366988</td>\n",
       "      <td>141.576605</td>\n",
       "      <td>358.687607</td>\n",
       "      <td>2.082324</td>\n",
       "      <td>3.066174</td>\n",
       "      <td>4.130323</td>\n",
       "      <td>63507</td>\n",
       "      <td>0</td>\n",
       "      <td>2916</td>\n",
       "      <td>6.85</td>\n",
       "      <td>0</td>\n",
       "      <td>0</td>\n",
       "      <td>106.699000</td>\n",
       "      <td>0.274000</td>\n",
       "      <td>16.806000</td>\n",
       "      <td>9.125582</td>\n",
       "      <td>0.826000</td>\n",
       "      <td>0.411000</td>\n",
       "      <td>0.186696</td>\n",
       "      <td>1.095890</td>\n",
       "      <td>6</td>\n",
       "      <td>0.238632</td>\n",
       "      <td>1508.600458</td>\n",
       "      <td>282.366289</td>\n",
       "    </tr>\n",
       "    <tr>\n",
       "      <th>...</th>\n",
       "      <td>...</td>\n",
       "      <td>...</td>\n",
       "      <td>...</td>\n",
       "      <td>...</td>\n",
       "      <td>...</td>\n",
       "      <td>...</td>\n",
       "      <td>...</td>\n",
       "      <td>...</td>\n",
       "      <td>...</td>\n",
       "      <td>...</td>\n",
       "      <td>...</td>\n",
       "      <td>...</td>\n",
       "      <td>...</td>\n",
       "      <td>...</td>\n",
       "      <td>...</td>\n",
       "      <td>...</td>\n",
       "      <td>...</td>\n",
       "      <td>...</td>\n",
       "      <td>...</td>\n",
       "      <td>...</td>\n",
       "      <td>...</td>\n",
       "      <td>...</td>\n",
       "      <td>...</td>\n",
       "      <td>...</td>\n",
       "      <td>...</td>\n",
       "      <td>...</td>\n",
       "    </tr>\n",
       "    <tr>\n",
       "      <th>62548</th>\n",
       "      <td>2.566705</td>\n",
       "      <td>0.191675</td>\n",
       "      <td>15.343774</td>\n",
       "      <td>36.443703</td>\n",
       "      <td>315.568790</td>\n",
       "      <td>2.074731</td>\n",
       "      <td>3.058678</td>\n",
       "      <td>4.112180</td>\n",
       "      <td>8236</td>\n",
       "      <td>0</td>\n",
       "      <td>414</td>\n",
       "      <td>15.40</td>\n",
       "      <td>0</td>\n",
       "      <td>0</td>\n",
       "      <td>8.844775</td>\n",
       "      <td>0.195062</td>\n",
       "      <td>23.140197</td>\n",
       "      <td>9.125582</td>\n",
       "      <td>0.769263</td>\n",
       "      <td>0.364647</td>\n",
       "      <td>0.186696</td>\n",
       "      <td>1.098340</td>\n",
       "      <td>6</td>\n",
       "      <td>0.239685</td>\n",
       "      <td>1501.973622</td>\n",
       "      <td>200.524292</td>\n",
       "    </tr>\n",
       "    <tr>\n",
       "      <th>62549</th>\n",
       "      <td>2.567595</td>\n",
       "      <td>0.130033</td>\n",
       "      <td>4.089553</td>\n",
       "      <td>346.490928</td>\n",
       "      <td>265.042058</td>\n",
       "      <td>2.233723</td>\n",
       "      <td>2.901468</td>\n",
       "      <td>4.114320</td>\n",
       "      <td>8207</td>\n",
       "      <td>0</td>\n",
       "      <td>774</td>\n",
       "      <td>15.50</td>\n",
       "      <td>0</td>\n",
       "      <td>0</td>\n",
       "      <td>5.132000</td>\n",
       "      <td>0.024000</td>\n",
       "      <td>23.140197</td>\n",
       "      <td>9.125582</td>\n",
       "      <td>0.769263</td>\n",
       "      <td>0.364647</td>\n",
       "      <td>0.186696</td>\n",
       "      <td>1.223870</td>\n",
       "      <td>6</td>\n",
       "      <td>0.239560</td>\n",
       "      <td>1502.755378</td>\n",
       "      <td>282.774539</td>\n",
       "    </tr>\n",
       "    <tr>\n",
       "      <th>62550</th>\n",
       "      <td>3.175677</td>\n",
       "      <td>0.142524</td>\n",
       "      <td>14.178510</td>\n",
       "      <td>195.815563</td>\n",
       "      <td>334.108368</td>\n",
       "      <td>2.723067</td>\n",
       "      <td>3.628286</td>\n",
       "      <td>5.659300</td>\n",
       "      <td>7576</td>\n",
       "      <td>0</td>\n",
       "      <td>749</td>\n",
       "      <td>14.20</td>\n",
       "      <td>0</td>\n",
       "      <td>0</td>\n",
       "      <td>8.159000</td>\n",
       "      <td>0.067000</td>\n",
       "      <td>23.140197</td>\n",
       "      <td>9.125582</td>\n",
       "      <td>0.769263</td>\n",
       "      <td>0.364647</td>\n",
       "      <td>0.186696</td>\n",
       "      <td>1.735390</td>\n",
       "      <td>6</td>\n",
       "      <td>0.174160</td>\n",
       "      <td>2067.059154</td>\n",
       "      <td>305.643603</td>\n",
       "    </tr>\n",
       "    <tr>\n",
       "      <th>62551</th>\n",
       "      <td>2.899565</td>\n",
       "      <td>0.084293</td>\n",
       "      <td>2.786568</td>\n",
       "      <td>134.804595</td>\n",
       "      <td>164.586029</td>\n",
       "      <td>2.655153</td>\n",
       "      <td>3.143977</td>\n",
       "      <td>4.937504</td>\n",
       "      <td>7844</td>\n",
       "      <td>0</td>\n",
       "      <td>710</td>\n",
       "      <td>14.90</td>\n",
       "      <td>0</td>\n",
       "      <td>0</td>\n",
       "      <td>3.062000</td>\n",
       "      <td>0.188000</td>\n",
       "      <td>23.140197</td>\n",
       "      <td>9.125582</td>\n",
       "      <td>0.769263</td>\n",
       "      <td>0.364647</td>\n",
       "      <td>0.186696</td>\n",
       "      <td>1.638870</td>\n",
       "      <td>6</td>\n",
       "      <td>0.199620</td>\n",
       "      <td>1803.423323</td>\n",
       "      <td>335.660976</td>\n",
       "    </tr>\n",
       "    <tr>\n",
       "      <th>62552</th>\n",
       "      <td>2.420636</td>\n",
       "      <td>0.188580</td>\n",
       "      <td>3.060225</td>\n",
       "      <td>89.465285</td>\n",
       "      <td>171.355796</td>\n",
       "      <td>1.964152</td>\n",
       "      <td>2.877119</td>\n",
       "      <td>3.766191</td>\n",
       "      <td>10487</td>\n",
       "      <td>0</td>\n",
       "      <td>675</td>\n",
       "      <td>15.80</td>\n",
       "      <td>0</td>\n",
       "      <td>0</td>\n",
       "      <td>8.844775</td>\n",
       "      <td>0.195062</td>\n",
       "      <td>23.140197</td>\n",
       "      <td>9.125582</td>\n",
       "      <td>0.769263</td>\n",
       "      <td>0.364647</td>\n",
       "      <td>0.186696</td>\n",
       "      <td>0.948419</td>\n",
       "      <td>6</td>\n",
       "      <td>0.261704</td>\n",
       "      <td>1375.600000</td>\n",
       "      <td>181.134352</td>\n",
       "    </tr>\n",
       "  </tbody>\n",
       "</table>\n",
       "<p>62553 rows × 26 columns</p>\n",
       "</div>\n",
       "      <button class=\"colab-df-convert\" onclick=\"convertToInteractive('df-948a0024-58af-4af3-9cbf-8290c413e3b5')\"\n",
       "              title=\"Convert this dataframe to an interactive table.\"\n",
       "              style=\"display:none;\">\n",
       "        \n",
       "  <svg xmlns=\"http://www.w3.org/2000/svg\" height=\"24px\"viewBox=\"0 0 24 24\"\n",
       "       width=\"24px\">\n",
       "    <path d=\"M0 0h24v24H0V0z\" fill=\"none\"/>\n",
       "    <path d=\"M18.56 5.44l.94 2.06.94-2.06 2.06-.94-2.06-.94-.94-2.06-.94 2.06-2.06.94zm-11 1L8.5 8.5l.94-2.06 2.06-.94-2.06-.94L8.5 2.5l-.94 2.06-2.06.94zm10 10l.94 2.06.94-2.06 2.06-.94-2.06-.94-.94-2.06-.94 2.06-2.06.94z\"/><path d=\"M17.41 7.96l-1.37-1.37c-.4-.4-.92-.59-1.43-.59-.52 0-1.04.2-1.43.59L10.3 9.45l-7.72 7.72c-.78.78-.78 2.05 0 2.83L4 21.41c.39.39.9.59 1.41.59.51 0 1.02-.2 1.41-.59l7.78-7.78 2.81-2.81c.8-.78.8-2.07 0-2.86zM5.41 20L4 18.59l7.72-7.72 1.47 1.35L5.41 20z\"/>\n",
       "  </svg>\n",
       "      </button>\n",
       "      \n",
       "  <style>\n",
       "    .colab-df-container {\n",
       "      display:flex;\n",
       "      flex-wrap:wrap;\n",
       "      gap: 12px;\n",
       "    }\n",
       "\n",
       "    .colab-df-convert {\n",
       "      background-color: #E8F0FE;\n",
       "      border: none;\n",
       "      border-radius: 50%;\n",
       "      cursor: pointer;\n",
       "      display: none;\n",
       "      fill: #1967D2;\n",
       "      height: 32px;\n",
       "      padding: 0 0 0 0;\n",
       "      width: 32px;\n",
       "    }\n",
       "\n",
       "    .colab-df-convert:hover {\n",
       "      background-color: #E2EBFA;\n",
       "      box-shadow: 0px 1px 2px rgba(60, 64, 67, 0.3), 0px 1px 3px 1px rgba(60, 64, 67, 0.15);\n",
       "      fill: #174EA6;\n",
       "    }\n",
       "\n",
       "    [theme=dark] .colab-df-convert {\n",
       "      background-color: #3B4455;\n",
       "      fill: #D2E3FC;\n",
       "    }\n",
       "\n",
       "    [theme=dark] .colab-df-convert:hover {\n",
       "      background-color: #434B5C;\n",
       "      box-shadow: 0px 1px 3px 1px rgba(0, 0, 0, 0.15);\n",
       "      filter: drop-shadow(0px 1px 2px rgba(0, 0, 0, 0.3));\n",
       "      fill: #FFFFFF;\n",
       "    }\n",
       "  </style>\n",
       "\n",
       "      <script>\n",
       "        const buttonEl =\n",
       "          document.querySelector('#df-948a0024-58af-4af3-9cbf-8290c413e3b5 button.colab-df-convert');\n",
       "        buttonEl.style.display =\n",
       "          google.colab.kernel.accessAllowed ? 'block' : 'none';\n",
       "\n",
       "        async function convertToInteractive(key) {\n",
       "          const element = document.querySelector('#df-948a0024-58af-4af3-9cbf-8290c413e3b5');\n",
       "          const dataTable =\n",
       "            await google.colab.kernel.invokeFunction('convertToInteractive',\n",
       "                                                     [key], {});\n",
       "          if (!dataTable) return;\n",
       "\n",
       "          const docLinkHtml = 'Like what you see? Visit the ' +\n",
       "            '<a target=\"_blank\" href=https://colab.research.google.com/notebooks/data_table.ipynb>data table notebook</a>'\n",
       "            + ' to learn more about interactive tables.';\n",
       "          element.innerHTML = '';\n",
       "          dataTable['output_type'] = 'display_data';\n",
       "          await google.colab.output.renderOutput(dataTable, element);\n",
       "          const docLink = document.createElement('div');\n",
       "          docLink.innerHTML = docLinkHtml;\n",
       "          element.appendChild(docLink);\n",
       "        }\n",
       "      </script>\n",
       "    </div>\n",
       "  </div>\n",
       "  "
      ],
      "text/plain": [
       "              a         e          i  ...         n          per          ma\n",
       "0      2.769165  0.076009  10.594067  ...  0.213885  1683.145708   77.372096\n",
       "1      2.772466  0.230337  34.836234  ...  0.213503  1686.155999   59.699133\n",
       "2      2.669150  0.256942  12.988919  ...  0.226019  1592.787285   34.925016\n",
       "3      2.361418  0.088721   7.141771  ...  0.271609  1325.432765   95.861936\n",
       "4      2.574249  0.191095   5.366988  ...  0.238632  1508.600458  282.366289\n",
       "...         ...       ...        ...  ...       ...          ...         ...\n",
       "62548  2.566705  0.191675  15.343774  ...  0.239685  1501.973622  200.524292\n",
       "62549  2.567595  0.130033   4.089553  ...  0.239560  1502.755378  282.774539\n",
       "62550  3.175677  0.142524  14.178510  ...  0.174160  2067.059154  305.643603\n",
       "62551  2.899565  0.084293   2.786568  ...  0.199620  1803.423323  335.660976\n",
       "62552  2.420636  0.188580   3.060225  ...  0.261704  1375.600000  181.134352\n",
       "\n",
       "[62553 rows x 26 columns]"
      ]
     },
     "execution_count": 45,
     "metadata": {},
     "output_type": "execute_result"
    }
   ],
   "source": [
    "dataset"
   ]
  },
  {
   "cell_type": "code",
   "execution_count": null,
   "metadata": {
    "colab": {
     "base_uri": "https://localhost:8080/"
    },
    "id": "ykL88xqUNqrx",
    "outputId": "adf0bc63-fcc5-40cf-f765-cc3cb6dc5e14"
   },
   "outputs": [
    {
     "data": {
      "text/plain": [
       "a                 float64\n",
       "e                 float64\n",
       "i                 float64\n",
       "om                float64\n",
       "w                 float64\n",
       "q                 float64\n",
       "ad                float64\n",
       "per_y             float64\n",
       "data_arc            int64\n",
       "condition_code      int64\n",
       "n_obs_used          int64\n",
       "H                 float64\n",
       "neo                 int64\n",
       "pha                 int64\n",
       "diameter          float64\n",
       "albedo            float64\n",
       "rot_per           float64\n",
       "GM                float64\n",
       "BV                float64\n",
       "UB                float64\n",
       "G                 float64\n",
       "moid              float64\n",
       "class               int64\n",
       "n                 float64\n",
       "per               float64\n",
       "ma                float64\n",
       "dtype: object"
      ]
     },
     "execution_count": 46,
     "metadata": {},
     "output_type": "execute_result"
    }
   ],
   "source": [
    "dataset.dtypes"
   ]
  },
  {
   "cell_type": "code",
   "execution_count": null,
   "metadata": {
    "colab": {
     "base_uri": "https://localhost:8080/"
    },
    "id": "WKRVQN-tTP9g",
    "outputId": "546d0cd6-ca2d-4761-e834-1370be22176f"
   },
   "outputs": [
    {
     "data": {
      "text/plain": [
       "(62553, 26)"
      ]
     },
     "execution_count": 47,
     "metadata": {},
     "output_type": "execute_result"
    }
   ],
   "source": [
    "dataset.shape"
   ]
  },
  {
   "cell_type": "code",
   "execution_count": null,
   "metadata": {
    "colab": {
     "base_uri": "https://localhost:8080/"
    },
    "id": "m_m80dxuVC2Y",
    "outputId": "db214fd4-7cb2-493a-ee73-2b17ad0302d3"
   },
   "outputs": [
    {
     "name": "stdout",
     "output_type": "stream",
     "text": [
      "<class 'pandas.core.frame.DataFrame'>\n",
      "RangeIndex: 62553 entries, 0 to 62552\n",
      "Data columns (total 26 columns):\n",
      " #   Column          Non-Null Count  Dtype  \n",
      "---  ------          --------------  -----  \n",
      " 0   a               62553 non-null  float64\n",
      " 1   e               62553 non-null  float64\n",
      " 2   i               62553 non-null  float64\n",
      " 3   om              62553 non-null  float64\n",
      " 4   w               62553 non-null  float64\n",
      " 5   q               62553 non-null  float64\n",
      " 6   ad              62553 non-null  float64\n",
      " 7   per_y           62553 non-null  float64\n",
      " 8   data_arc        62553 non-null  int64  \n",
      " 9   condition_code  62553 non-null  int64  \n",
      " 10  n_obs_used      62553 non-null  int64  \n",
      " 11  H               62553 non-null  float64\n",
      " 12  neo             62553 non-null  int64  \n",
      " 13  pha             62553 non-null  int64  \n",
      " 14  diameter        62553 non-null  float64\n",
      " 15  albedo          62553 non-null  float64\n",
      " 16  rot_per         62553 non-null  float64\n",
      " 17  GM              62553 non-null  float64\n",
      " 18  BV              62553 non-null  float64\n",
      " 19  UB              62553 non-null  float64\n",
      " 20  G               62553 non-null  float64\n",
      " 21  moid            62553 non-null  float64\n",
      " 22  class           62553 non-null  int64  \n",
      " 23  n               62553 non-null  float64\n",
      " 24  per             62553 non-null  float64\n",
      " 25  ma              62553 non-null  float64\n",
      "dtypes: float64(20), int64(6)\n",
      "memory usage: 12.4 MB\n"
     ]
    }
   ],
   "source": [
    "dataset.info()"
   ]
  },
  {
   "cell_type": "code",
   "execution_count": null,
   "metadata": {
    "id": "t-2-w6c6VQsJ"
   },
   "outputs": [],
   "source": [
    "from sklearn.linear_model import LinearRegression\n",
    "from sklearn.model_selection import train_test_split\n"
   ]
  },
  {
   "cell_type": "code",
   "execution_count": null,
   "metadata": {
    "id": "vAUIcFhHWgOZ"
   },
   "outputs": [],
   "source": [
    "target=dataset['diameter']\n",
    "feature=dataset.drop(['diameter'],axis=1)"
   ]
  },
  {
   "cell_type": "code",
   "execution_count": null,
   "metadata": {
    "id": "mAsjfvbZ8Kxi"
   },
   "outputs": [],
   "source": [
    "X_train,X_test,Y_train,Y_test=train_test_split(feature,target,train_size=0.75,random_state=5)"
   ]
  },
  {
   "cell_type": "markdown",
   "metadata": {
    "id": "vU_bM4jRLIxG"
   },
   "source": [
    "# Linear Regression "
   ]
  },
  {
   "cell_type": "code",
   "execution_count": null,
   "metadata": {
    "colab": {
     "base_uri": "https://localhost:8080/"
    },
    "id": "9T7g-4vk9AqB",
    "outputId": "692e5c27-f974-4c76-c2b8-9df26e6a690e"
   },
   "outputs": [
    {
     "name": "stdout",
     "output_type": "stream",
     "text": [
      "0.5247484686274966\n"
     ]
    }
   ],
   "source": [
    "lr=LinearRegression()\n",
    "lr.fit(X_train, Y_train)\n",
    "score=lr.score(X_test, Y_test)\n",
    "print(lr.score(X_test, Y_test))"
   ]
  },
  {
   "cell_type": "code",
   "execution_count": null,
   "metadata": {
    "colab": {
     "base_uri": "https://localhost:8080/"
    },
    "id": "yrVILirG9jhC",
    "outputId": "3236a259-bfa7-4b95-cb3a-d842ad1fde76"
   },
   "outputs": [
    {
     "data": {
      "text/plain": [
       "array([34.05060176,  6.74424261, -0.29210777, ..., 18.07258213,\n",
       "       28.50781009,  2.30891698])"
      ]
     },
     "execution_count": 54,
     "metadata": {},
     "output_type": "execute_result"
    }
   ],
   "source": [
    "y_pred=lr.predict(X_test)\n",
    "y_pred "
   ]
  },
  {
   "cell_type": "markdown",
   "metadata": {
    "id": "i764zlhABwSx"
   },
   "source": [
    "## plotting residual errors in training data|\n",
    "## plotting residual errors in test data\n",
    "## plotting line for zero residual error\n",
    "---\n",
    "\n"
   ]
  },
  {
   "cell_type": "code",
   "execution_count": null,
   "metadata": {
    "colab": {
     "base_uri": "https://localhost:8080/",
     "height": 282
    },
    "id": "O2fU6kX9_SwR",
    "outputId": "2cb9fcf1-cc88-41fb-834f-05cd2cbee7b3"
   },
   "outputs": [
    {
     "data": {
      "text/plain": [
       "<matplotlib.collections.LineCollection at 0x7f01e562ac50>"
      ]
     },
     "execution_count": 69,
     "metadata": {},
     "output_type": "execute_result"
    },
    {
     "data": {
      "image/png": "[encoded data removed]",
      "text/plain": [
       "<Figure size 432x288 with 1 Axes>"
      ]
     },
     "metadata": {
      "needs_background": "light"
     },
     "output_type": "display_data"
    }
   ],
   "source": [
    "\n",
    "plt.scatter(lr.predict(X_train), lr.predict(X_train) - Y_train,\n",
    "            color = \"green\", s = 10, label = 'Train data')\n",
    " \n",
    "\n",
    "plt.scatter(lr.predict(X_test), lr.predict(X_test) - Y_test,\n",
    "            color = \"blue\", s = 10, label = 'Test data')\n",
    " \n",
    "\n",
    "plt.hlines(y = 0, xmin = 0, xmax = 50, linewidth = 2)"
   ]
  },
  {
   "cell_type": "markdown",
   "metadata": {
    "id": "pU-dtRDREtqc"
   },
   "source": [
    "# applying ridge regression and calculating mean square error"
   ]
  },
  {
   "cell_type": "code",
   "execution_count": null,
   "metadata": {
    "id": "rrxjDUmYBeIS"
   },
   "outputs": [],
   "source": [
    "ridgeReg = Ridge(alpha=0.05, normalize=True)\n",
    "\n",
    "ridgeReg.fit(X_train,Y_train)\n",
    "\n",
    "pred = ridgeReg.predict(X_test)\n",
    "\n",
    "mse = np.mean((pred - Y_test)**2)\n",
    "mse"
   ]
  },
  {
   "cell_type": "code",
   "execution_count": null,
   "metadata": {
    "colab": {
     "base_uri": "https://localhost:8080/"
    },
    "id": "72cN8p-wEY7G",
    "outputId": "84bf1b03-616c-403d-daf3-8c6e6151d788"
   },
   "outputs": [
    {
     "name": "stdout",
     "output_type": "stream",
     "text": [
      "Mean Square error:  77.90862667495632\n"
     ]
    }
   ],
   "source": [
    "print(\"Mean Square error: \",mse)"
   ]
  },
  {
   "cell_type": "markdown",
   "metadata": {
    "id": "mpP7sBhjEzXf"
   },
   "source": [
    "# applying lasso regression and calculating mean square error"
   ]
  },
  {
   "cell_type": "code",
   "execution_count": null,
   "metadata": {
    "id": "br2AiXR9Ejpx"
   },
   "outputs": [],
   "source": [
    "lassoReg = Lasso(alpha=0.3, normalize=True)\n",
    "\n",
    "lassoReg.fit(X_train,Y_train)\n",
    "\n",
    "pred1 = lassoReg.predict(X_test)\n"
   ]
  },
  {
   "cell_type": "code",
   "execution_count": null,
   "metadata": {
    "colab": {
     "base_uri": "https://localhost:8080/"
    },
    "id": "IpKz9b7VE7cW",
    "outputId": "3c9d1953-a251-4090-fd3d-4d58f0f17a91"
   },
   "outputs": [
    {
     "data": {
      "text/plain": [
       "157.18544424527806"
      ]
     },
     "execution_count": 80,
     "metadata": {},
     "output_type": "execute_result"
    }
   ],
   "source": [
    "msee=np.mean((pred1-Y_test)**2)\n",
    "msee"
   ]
  },
  {
   "cell_type": "markdown",
   "metadata": {
    "id": "ZC5TD_MGKorq"
   },
   "source": [
    "#Applying Decision Tree "
   ]
  },
  {
   "cell_type": "code",
   "execution_count": null,
   "metadata": {
    "id": "FkS9f84dFJwh"
   },
   "outputs": [],
   "source": [
    "#feature Scaling  \n",
    "from sklearn.preprocessing import StandardScaler    \n",
    "st_X= StandardScaler()  \n",
    "X_train= st_X.fit_transform(X_train)    \n",
    "X_test= st_X.transform(X_test)   "
   ]
  },
  {
   "cell_type": "code",
   "execution_count": null,
   "metadata": {
    "id": "Cnox0Hd8INuT"
   },
   "outputs": [],
   "source": [
    "#Fitting Decision Tree classifier to the training set  \n",
    "from sklearn.tree import DecisionTreeClassifier  \n",
    "classifier= DecisionTreeClassifier(criterion='entropy', random_state=0)  \n",
    "classifier.fit(X_train, Y_train) "
   ]
  },
  {
   "cell_type": "code",
   "execution_count": null,
   "metadata": {
    "id": "zl2_KRUaIeEO"
   },
   "outputs": [],
   "source": [
    "from sklearn import tree\n",
    "clf = tree.DecisionTreeClassifier()\n",
    "#clf = clf.fit(X_train,Y_train)"
   ]
  },
  {
   "cell_type": "code",
   "execution_count": null,
   "metadata": {
    "id": "UGy2CYAEKTSo"
   },
   "outputs": [],
   "source": [
    "print()"
   ]
  }
 ],
 "metadata": {
  "colab": {
   "collapsed_sections": [],
   "name": "Cognitive Analytic lab 5.ipynb",
   "provenance": []
  },
  "kernelspec": {
   "display_name": "Python 3",
   "language": "python",
   "name": "python3"
  },
  "language_info": {
   "codemirror_mode": {
    "name": "ipython",
    "version": 3
   },
   "file_extension": ".py",
   "mimetype": "text/x-python",
   "name": "python",
   "nbconvert_exporter": "python",
   "pygments_lexer": "ipython3",
   "version": "3.8.3"
  }
 },
 "nbformat": 4,
 "nbformat_minor": 1
}
